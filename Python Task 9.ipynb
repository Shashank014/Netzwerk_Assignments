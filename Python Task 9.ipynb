{
 "cells": [
  {
   "cell_type": "code",
   "execution_count": 10,
   "metadata": {},
   "outputs": [
    {
     "name": "stdout",
     "output_type": "stream",
     "text": [
      "Enter First Number: 5\n",
      "Enter Second Number: 3\n",
      "Enter which operation would you like to perform?\n",
      "Enter any of these number for specific operation 1-Addition 2-Substraction 3-Multiplication 4-Division : 3\n",
      "15\n"
     ]
    }
   ],
   "source": [
    "# Problem statement --\n",
    "# 1. Ask 2 numbers from users and store it in num1 and num2\n",
    "# 2. Ask user to press 1 for addition,2 for subtraction,3 for multiplication and 4 for division\n",
    "# 3. based on number given by user do the math operation\n",
    "\n",
    "num1 = int(input(\"Enter First Number: \"))\n",
    "num2 = int(input(\"Enter Second Number: \"))\n",
    "\n",
    "print(\"Enter which operation would you like to perform?\")\n",
    "op = input(\"Enter any of these number for specific operation 1-Addition 2-Substraction 3-Multiplication 4-Division : \")\n",
    "\n",
    "result = 0\n",
    "if op == '1':\n",
    "    result = num1 + num2\n",
    "elif op == '2':\n",
    "    result = num1 - num2\n",
    "elif op == '3':\n",
    "    result = num1 * num2\n",
    "elif op == '4':\n",
    "    result = num1 / num2\n",
    "else:\n",
    "    print(\"Input character is not recognized!\")\n",
    "\n",
    "print(result)"
   ]
  },
  {
   "cell_type": "code",
   "execution_count": null,
   "metadata": {},
   "outputs": [],
   "source": []
  }
 ],
 "metadata": {
  "kernelspec": {
   "display_name": "Python 3",
   "language": "python",
   "name": "python3"
  },
  "language_info": {
   "codemirror_mode": {
    "name": "ipython",
    "version": 3
   },
   "file_extension": ".py",
   "mimetype": "text/x-python",
   "name": "python",
   "nbconvert_exporter": "python",
   "pygments_lexer": "ipython3",
   "version": "3.8.3"
  }
 },
 "nbformat": 4,
 "nbformat_minor": 4
}
