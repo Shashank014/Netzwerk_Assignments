{
 "cells": [
  {
   "cell_type": "code",
   "execution_count": 3,
   "metadata": {},
   "outputs": [
    {
     "name": "stdout",
     "output_type": "stream",
     "text": [
      "{'banana', 'cherry'}\n",
      "{'netflix', 'amazon'}\n"
     ]
    }
   ],
   "source": [
    "# Python Task 7 - Some inbuilt methods\n",
    "# 1. difference() - Returns a set containing the difference between two or more sets\n",
    "# example 1\n",
    "x = {\"apple\", \"banana\", \"cherry\"}\n",
    "y = {\"watermelon\", \"kiwi\", \"apple\"}\n",
    "z = x.difference(y) \n",
    "print(z)\n",
    "\n",
    "# example 2\n",
    "x = {\"amazon\", \"google\", \"netflix\"}\n",
    "y = {\"google\", \"microsoft\", \"flipkart\"}\n",
    "z = x.difference(y) \n",
    "print(z)"
   ]
  },
  {
   "cell_type": "code",
   "execution_count": 5,
   "metadata": {},
   "outputs": [
    {
     "name": "stdout",
     "output_type": "stream",
     "text": [
      "{'banana', 'cherry', 'watermelon', 'kiwi'}\n",
      "{'netflix', 'amazon', 'flipkart', 'microsoft'}\n"
     ]
    }
   ],
   "source": [
    "# 2. symmetric_difference() - Returns a set with the symmetric differences of two sets\n",
    "# example 1\n",
    "x = {\"apple\", \"banana\", \"cherry\"}\n",
    "y = {\"watermelon\", \"kiwi\", \"apple\"}\n",
    "z = x.symmetric_difference(y) \n",
    "print(z)\n",
    "\n",
    "# example 2\n",
    "x = {\"amazon\", \"google\", \"netflix\"}\n",
    "y = {\"google\", \"microsoft\", \"flipkart\"}\n",
    "z = x.symmetric_difference(y) \n",
    "print(z)"
   ]
  },
  {
   "cell_type": "code",
   "execution_count": null,
   "metadata": {},
   "outputs": [],
   "source": []
  }
 ],
 "metadata": {
  "kernelspec": {
   "display_name": "Python 3",
   "language": "python",
   "name": "python3"
  },
  "language_info": {
   "codemirror_mode": {
    "name": "ipython",
    "version": 3
   },
   "file_extension": ".py",
   "mimetype": "text/x-python",
   "name": "python",
   "nbconvert_exporter": "python",
   "pygments_lexer": "ipython3",
   "version": "3.8.3"
  }
 },
 "nbformat": 4,
 "nbformat_minor": 4
}
