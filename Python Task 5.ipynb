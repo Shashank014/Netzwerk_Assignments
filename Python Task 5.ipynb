{
 "cells": [
  {
   "cell_type": "code",
   "execution_count": 1,
   "metadata": {},
   "outputs": [
    {
     "name": "stdout",
     "output_type": "stream",
     "text": [
      "{'april_batch': {'student': {'name': 'Mike', 'marks': {'python': 80, 'maths': 70}}}}\n"
     ]
    }
   ],
   "source": [
    "# Problem Statement - From the dictionary, do the following tasks\n",
    "# 1.access \"Mike\"\n",
    "# 2.access 80\n",
    "# 3.change \"Mike\" to \"Your name\"\n",
    "# 4.add ML = 80 and DL = 80 inside marks\n",
    "\n",
    "\n",
    "dict1 = { \n",
    "   \"april_batch\":{ \n",
    "      \"student\":{ \n",
    "         \"name\":\"Mike\",\n",
    "         \"marks\":{ \n",
    "            \"python\":80,\n",
    "            \"maths\":70\n",
    "         }\n",
    "      }\n",
    "   }\n",
    "}\n",
    "print(dict1)"
   ]
  },
  {
   "cell_type": "code",
   "execution_count": 2,
   "metadata": {},
   "outputs": [
    {
     "name": "stdout",
     "output_type": "stream",
     "text": [
      "Mike\n"
     ]
    }
   ],
   "source": [
    "# 1. access \"Mike\"\n",
    "a = dict1['april_batch']['student']['name']\n",
    "print(a)"
   ]
  },
  {
   "cell_type": "code",
   "execution_count": 3,
   "metadata": {},
   "outputs": [
    {
     "name": "stdout",
     "output_type": "stream",
     "text": [
      "80\n"
     ]
    }
   ],
   "source": [
    "# 2. access 80\n",
    "a = dict1['april_batch']['student']['marks']['python']\n",
    "print(a)"
   ]
  },
  {
   "cell_type": "code",
   "execution_count": 4,
   "metadata": {},
   "outputs": [
    {
     "name": "stdout",
     "output_type": "stream",
     "text": [
      "{'april_batch': {'student': {'name': 'Shashank', 'marks': {'python': 80, 'maths': 70}}}}\n"
     ]
    }
   ],
   "source": [
    "# 3. change \"Mike\" to \"Your name\"\n",
    "dict1['april_batch']['student']['name'] = 'Shashank'\n",
    "print(dict1)"
   ]
  },
  {
   "cell_type": "code",
   "execution_count": 20,
   "metadata": {},
   "outputs": [
    {
     "name": "stdout",
     "output_type": "stream",
     "text": [
      "{'april_batch': {'student': {'name': 'Shashank', 'marks': {'python': 80, 'maths': 70, 'ML': 80, 'DL': 80}}}}\n"
     ]
    }
   ],
   "source": [
    "# 4. add ML = 80 and DL = 80 inside marks\n",
    "dict1['april_batch']['student']['marks']['ML'] = 80\n",
    "dict1['april_batch']['student']['marks']['DL'] = 80\n",
    "print(dict1)"
   ]
  },
  {
   "cell_type": "code",
   "execution_count": null,
   "metadata": {},
   "outputs": [],
   "source": []
  }
 ],
 "metadata": {
  "kernelspec": {
   "display_name": "Python 3",
   "language": "python",
   "name": "python3"
  },
  "language_info": {
   "codemirror_mode": {
    "name": "ipython",
    "version": 3
   },
   "file_extension": ".py",
   "mimetype": "text/x-python",
   "name": "python",
   "nbconvert_exporter": "python",
   "pygments_lexer": "ipython3",
   "version": "3.8.3"
  }
 },
 "nbformat": 4,
 "nbformat_minor": 4
}
