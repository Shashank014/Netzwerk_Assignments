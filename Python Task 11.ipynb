{
 "cells": [
  {
   "cell_type": "code",
   "execution_count": 21,
   "metadata": {},
   "outputs": [
    {
     "name": "stdout",
     "output_type": "stream",
     "text": [
      "Menu:\n",
      "1. Addition\n",
      "2. Substraction\n",
      "3. Multiplication\n",
      "4. Division\n",
      "Enter any of these number for specific operation:3\n",
      "Enter First Number: 12\n",
      "Enter Second Number: 2\n",
      "12 * 2 = 24\n"
     ]
    }
   ],
   "source": [
    "# Problem statement -- \n",
    "#Ask 2 numbers from users and store it in num1 and num2\n",
    "#Ask user to press 1 for addition,2 for subtraction,3 for multiplication and 4 for division\n",
    "#create 4 seperate functions for each operation (i.e. addition,subtraction,multiplication and division)\n",
    "#based on number given by user,call that perticular function and print the output\n",
    "\n",
    "\n",
    "def add():\n",
    "    return num1+num2\n",
    "    \n",
    "def sub():\n",
    "    return num1-num2\n",
    "    \n",
    "def mul():\n",
    "    return num1*num2\n",
    "    \n",
    "def div():\n",
    "    return num1/num2\n",
    "    \n",
    "print(\"Menu:\")    \n",
    "print(\"1. Addition\")\n",
    "print(\"2. Substraction\")\n",
    "print(\"3. Multiplication\")\n",
    "print(\"4. Division\")\n",
    "op = input(\"Enter any of these number for specific operation:\" )\n",
    "\n",
    "num1 = int(input(\"Enter First Number: \"))\n",
    "num2 = int(input(\"Enter Second Number: \"))\n",
    "\n",
    "if op == '1':\n",
    "    print(num1, \"+\", num2, \"=\", add())\n",
    "elif op == '2':\n",
    "    print(num1, \"-\", num2, \"=\", sub())\n",
    "elif op == '3':\n",
    "    print(num1, \"*\", num2, \"=\", mul())\n",
    "elif op == '4':\n",
    "    print(num1, \"/\", num2, \"=\", div())\n",
    "else:\n",
    "    print(\"Input character is not recognized!\")\n",
    "    "
   ]
  },
  {
   "cell_type": "code",
   "execution_count": null,
   "metadata": {},
   "outputs": [],
   "source": []
  },
  {
   "cell_type": "code",
   "execution_count": null,
   "metadata": {},
   "outputs": [],
   "source": []
  }
 ],
 "metadata": {
  "kernelspec": {
   "display_name": "Python 3",
   "language": "python",
   "name": "python3"
  },
  "language_info": {
   "codemirror_mode": {
    "name": "ipython",
    "version": 3
   },
   "file_extension": ".py",
   "mimetype": "text/x-python",
   "name": "python",
   "nbconvert_exporter": "python",
   "pygments_lexer": "ipython3",
   "version": "3.8.3"
  }
 },
 "nbformat": 4,
 "nbformat_minor": 4
}
