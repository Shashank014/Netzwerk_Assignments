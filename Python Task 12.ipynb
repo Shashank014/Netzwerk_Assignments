{
 "cells": [
  {
   "cell_type": "code",
   "execution_count": 15,
   "metadata": {},
   "outputs": [
    {
     "name": "stdout",
     "output_type": "stream",
     "text": [
      "The sum of the list elements is : 21\n"
     ]
    }
   ],
   "source": [
    "# Some in-built functions -- reduce() zip() enumerate()\n",
    "\n",
    "# 1. reduce() -- The reduce(fun,seq) function is used to apply a particular function passed in its argument to all of the list \n",
    "#                elements mentioned in the sequence passed along.This function is defined in “functools” module.\n",
    "\n",
    "# example 1\n",
    "\n",
    "import functools\n",
    "list = [1,2,3,4,5,6]\n",
    "\n",
    "# using reduce to compute sum of list \n",
    "print (\"The sum of the list elements is : \",end=\"\") \n",
    "print (functools.reduce(lambda a,b : a+b,list)) "
   ]
  },
  {
   "cell_type": "code",
   "execution_count": 18,
   "metadata": {},
   "outputs": [
    {
     "name": "stdout",
     "output_type": "stream",
     "text": [
      "The sum of the list elements is : 21\n"
     ]
    }
   ],
   "source": [
    "# example 2 \n",
    "\n",
    "import functools\n",
    "import operator\n",
    "list = [1,2,3,4,5,6]\n",
    "\n",
    "# using operator functions \n",
    "print (\"The sum of the list elements is : \",end=\"\") \n",
    "print (functools.reduce(operator.add,list)) "
   ]
  },
  {
   "cell_type": "code",
   "execution_count": 4,
   "metadata": {},
   "outputs": [
    {
     "name": "stdout",
     "output_type": "stream",
     "text": [
      "(('John', 'Jenny'), ('Charles', 'Christy'), ('Mike', 'Monica'))\n"
     ]
    }
   ],
   "source": [
    "# 2. zip() -- The zip() function returns a zip object, which is an iterator of tuples where the first item in each passed \n",
    "#             iterator is paired together, and then the second item in each passed iterator are paired together etc.\n",
    "\n",
    "# example 1\n",
    "\n",
    "a = (\"John\", \"Charles\", \"Mike\")\n",
    "b = (\"Jenny\", \"Christy\", \"Monica\")\n",
    "\n",
    "x = zip(a, b)\n",
    "print(tuple(x)) # tuple() function to display output"
   ]
  },
  {
   "cell_type": "code",
   "execution_count": 5,
   "metadata": {},
   "outputs": [
    {
     "name": "stdout",
     "output_type": "stream",
     "text": [
      "(('John', 'Jenny'), ('Charles', 'Christy'), ('Mike', 'Monica'))\n"
     ]
    }
   ],
   "source": [
    "# example 2\n",
    "# If one tuple contains more items, these items are ignored. Here b tuple has more items therefore excessive items are ignored.\n",
    "\n",
    "a = (\"John\", \"Charles\", \"Mike\")\n",
    "b = (\"Jenny\", \"Christy\", \"Monica\", \"Vicky\")\n",
    "\n",
    "x = zip(a, b)\n",
    "print(tuple(x)) # tuple() function to display output"
   ]
  },
  {
   "cell_type": "code",
   "execution_count": 10,
   "metadata": {},
   "outputs": [
    {
     "name": "stdout",
     "output_type": "stream",
     "text": [
      "[(0, 'apple'), (1, 'banana'), (2, 'cherry')]\n"
     ]
    }
   ],
   "source": [
    "# 3. enumerate() -- Takes a collection (e.g. a tuple) and returns it as an enumerate object. \n",
    "#                   The enumerate() function adds a counter as the key of the enumerate object.\n",
    "# syntax -- enumerate(iterable, start) -- start(default 0)\n",
    "\n",
    "# example 1\n",
    "\n",
    "x = ('apple', 'banana', 'cherry')\n",
    "y = enumerate(x)\n",
    "\n",
    "print(list(y))"
   ]
  },
  {
   "cell_type": "code",
   "execution_count": 11,
   "metadata": {},
   "outputs": [
    {
     "name": "stdout",
     "output_type": "stream",
     "text": [
      "[(2, 'apple'), (3, 'banana'), (4, 'cherry')]\n"
     ]
    }
   ],
   "source": [
    "# example 2\n",
    "\n",
    "x = ('apple', 'banana', 'cherry')\n",
    "y = enumerate(x,2)\n",
    "\n",
    "print(list(y))"
   ]
  },
  {
   "cell_type": "code",
   "execution_count": null,
   "metadata": {},
   "outputs": [],
   "source": []
  }
 ],
 "metadata": {
  "kernelspec": {
   "display_name": "Python 3",
   "language": "python",
   "name": "python3"
  },
  "language_info": {
   "codemirror_mode": {
    "name": "ipython",
    "version": 3
   },
   "file_extension": ".py",
   "mimetype": "text/x-python",
   "name": "python",
   "nbconvert_exporter": "python",
   "pygments_lexer": "ipython3",
   "version": "3.8.3"
  }
 },
 "nbformat": 4,
 "nbformat_minor": 4
}
