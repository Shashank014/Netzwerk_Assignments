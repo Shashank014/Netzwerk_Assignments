{
 "cells": [
  {
   "cell_type": "code",
   "execution_count": 1,
   "metadata": {},
   "outputs": [
    {
     "name": "stdout",
     "output_type": "stream",
     "text": [
      "('a', 'b', 'c', 'd', 'e', 'True', 'Python')\n"
     ]
    }
   ],
   "source": [
    "# Problem Statement - Add and remove the elements from a tuple.\n",
    "\n",
    "tup1 = ('a','b','c','d','e','True','Python')\n",
    "print(tup1)"
   ]
  },
  {
   "cell_type": "code",
   "execution_count": 4,
   "metadata": {},
   "outputs": [
    {
     "name": "stdout",
     "output_type": "stream",
     "text": [
      "['a', 'b', 'c', 'd', 'e', 'True', 'Python']\n",
      "['a', 'b', 'c', 'd', 'e', 'True', 'Python', 'ML']\n",
      "('a', 'b', 'c', 'd', 'e', 'True', 'Python', 'ML')\n"
     ]
    }
   ],
   "source": [
    "# Add elements\n",
    "# first convert tuple into list\n",
    "list1 = list(tup1)\n",
    "print(list1)\n",
    "\n",
    "# add elements\n",
    "list1.append('ML')\n",
    "print(list1)\n",
    "\n",
    "# convert this list into tuple\n",
    "tup1 = tuple(list1)\n",
    "print(tup1)"
   ]
  },
  {
   "cell_type": "code",
   "execution_count": 7,
   "metadata": {},
   "outputs": [
    {
     "name": "stdout",
     "output_type": "stream",
     "text": [
      "['a', 'b', 'c', 'd', 'e', 'True', 'Python', 'ML']\n",
      "['a', 'b', 'c', 'd', 'e', 'Python', 'ML']\n",
      "('a', 'b', 'c', 'd', 'e', 'Python', 'ML')\n"
     ]
    }
   ],
   "source": [
    "# Remove elements\n",
    "# first convert tuple into list\n",
    "list1 = list(tup1)\n",
    "print(list1)\n",
    "\n",
    "# remove elements\n",
    "list1.remove('True')\n",
    "print(list1)\n",
    "\n",
    "# convert this list into tuple\n",
    "tup1 = tuple(list1)\n",
    "print(tup1)"
   ]
  },
  {
   "cell_type": "code",
   "execution_count": null,
   "metadata": {},
   "outputs": [],
   "source": []
  }
 ],
 "metadata": {
  "kernelspec": {
   "display_name": "Python 3",
   "language": "python",
   "name": "python3"
  },
  "language_info": {
   "codemirror_mode": {
    "name": "ipython",
    "version": 3
   },
   "file_extension": ".py",
   "mimetype": "text/x-python",
   "name": "python",
   "nbconvert_exporter": "python",
   "pygments_lexer": "ipython3",
   "version": "3.8.3"
  }
 },
 "nbformat": 4,
 "nbformat_minor": 4
}
